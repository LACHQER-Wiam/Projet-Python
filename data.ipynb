{
 "cells": [
  {
   "cell_type": "code",
   "execution_count": 30,
   "metadata": {},
   "outputs": [],
   "source": [
    "# Importation des bibliothèques qu’on va utiliser\n",
    "import requests\n",
    "import pandas as pd\n",
    "import numpy as np\n",
    "import matplotlib.pyplot as plt"
   ]
  },
  {
   "cell_type": "code",
   "execution_count": 51,
   "metadata": {},
   "outputs": [
    {
     "name": "stdout",
     "output_type": "stream",
     "text": [
      "   Hauteur_sous-plafond  Surface_habitable_immeuble  \\\n",
      "0                   2.9                       220.8   \n",
      "1                   2.5                         NaN   \n",
      "2                   2.5                      1458.0   \n",
      "3                   2.5                      3292.3   \n",
      "4                   2.5                         NaN   \n",
      "\n",
      "   Surface_habitable_logement  Nombre_niveau_logement Période_construction  \\\n",
      "0                       220.8                     2.0           avant 1948   \n",
      "1                        51.0                     4.0            1948-1974   \n",
      "2                        61.0                     1.0            1948-1974   \n",
      "3                        47.5                     7.0            1975-1977   \n",
      "4                        47.0                     1.0           avant 1948   \n",
      "\n",
      "  Classe_inertie_bâtiment  Nombre_appartement   Classe_altitude  \\\n",
      "0                 Moyenne                 1.0  inférieur à 400m   \n",
      "1                  Légère                 1.0  inférieur à 400m   \n",
      "2             Très lourde                20.0  inférieur à 400m   \n",
      "3                     NaN                56.0               NaN   \n",
      "4                  Lourde                 1.0  inférieur à 400m   \n",
      "\n",
      "  Zone_climatique_  Nombre_niveau_immeuble _score Typologie_logement  \\\n",
      "0              H1c                     2.0   None                NaN   \n",
      "1              H2a                     NaN   None                NaN   \n",
      "2              H1a                     5.0   None                 T3   \n",
      "3              NaN                     7.0   None                NaN   \n",
      "4              H1a                     NaN   None                NaN   \n",
      "\n",
      "  Position_logement_dans_immeuble  Surface_tertiaire_immeuble  \n",
      "0                             NaN                         NaN  \n",
      "1                             NaN                         NaN  \n",
      "2                             RDC                         NaN  \n",
      "3                             NaN                         NaN  \n",
      "4                             NaN                         NaN  \n",
      "(10000, 14)\n"
     ]
    },
    {
     "data": {
      "text/plain": [
       "array(['avant 1948', '1948-1974', '1975-1977', '2006-2012', '1978-1982',\n",
       "       '1989-2000', '2013-2021', '2001-2005', 'après 2021', '1983-1988'],\n",
       "      dtype=object)"
      ]
     },
     "execution_count": 51,
     "metadata": {},
     "output_type": "execute_result"
    }
   ],
   "source": [
    "\n",
    "code_commune = \"01450\"\n",
    "size = 10\n",
    "api_root = \"https://koumoul.com/data-fair/api/v1/datasets/dpe-france/lines\"\n",
    "format_api = f\"{api_root}?page=1&after=10&format=json&q_mode=simple&\"\n",
    "url_api = \" https://koumoul.com/data-fair/api/v1/datasets/dpe-v2-logements-existants/lines?size=10000&select=P%C3%A9riode_construction%2CHauteur_sous-plafond%2CNombre_appartement%2CNombre_niveau_immeuble%2CNombre_niveau_logement%2CSurface_habitable_immeuble%2CSurface_habitable_logement%2CSurface_tertiaire_immeuble%2CClasse_inertie_b%C3%A2timent%2CTypologie_logement%2CPosition_logement_dans_immeuble%2CClasse_altitude%2CZone_climatique_\"\n",
    "req = requests.get(url_api)\n",
    "wb = req.json()\n",
    "df = pd.json_normalize(wb[\"results\"])\n",
    "print(df.head())\n",
    "print(df.shape)\n",
    "df[\"Période_construction\"].unique()\n"
   ]
  }
 ],
 "metadata": {
  "kernelspec": {
   "display_name": "Python 3",
   "language": "python",
   "name": "python3"
  },
  "language_info": {
   "codemirror_mode": {
    "name": "ipython",
    "version": 3
   },
   "file_extension": ".py",
   "mimetype": "text/x-python",
   "name": "python",
   "nbconvert_exporter": "python",
   "pygments_lexer": "ipython3",
   "version": "3.10.6"
  }
 },
 "nbformat": 4,
 "nbformat_minor": 2
}
